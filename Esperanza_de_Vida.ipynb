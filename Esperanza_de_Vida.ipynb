{
 "cells": [
  {
   "cell_type": "code",
   "execution_count": 1,
   "metadata": {},
   "outputs": [],
   "source": [
    "#Importamos acceso a API DEL WB(banco mundial), traemos las librerias que nos permiten trabajar con los dataframes\n",
    "import wbgapi as wb\n",
    "import pandas as pd\n",
    "import numpy as np\n",
    "import time\n",
    "#revisar carga de datos, hacerlo incremental, demostrar que la arquitectura soporta la ingesta de datos\n",
    "# geberadores de datos sintéticos, mantiene la varianza de los datos con datos sintéticos"
   ]
  },
  {
   "cell_type": "code",
   "execution_count": 2,
   "metadata": {},
   "outputs": [
    {
     "data": {
      "text/html": [
       "<div class=\"wbgapi\"><table>\n",
       "<thead>\n",
       "<tr><th>id               </th><th>value                                                                                                                                       </th></tr>\n",
       "</thead>\n",
       "<tbody>\n",
       "<tr><td>SG.DMK.ALLD.FN.ZS</td><td>Women participating in the three decisions (own health care, major household purchases, and visiting family) (% of women age 15-49)         </td></tr>\n",
       "<tr><td>SG.DMK.SRCR.FN.ZS</td><td>Women making their own informed decisions regarding sexual relations, contraceptive use and reproductive health care  (% of women age 15-49)</td></tr>\n",
       "<tr><td>SH.MED.CMHW.P3   </td><td>Community health workers (per 1,000 people)                                                                                                 </td></tr>\n",
       "<tr><td>SH.STA.BRTC.ZS   </td><td>Births attended by skilled health staff (% of total)                                                                                        </td></tr>\n",
       "<tr><td>SH.UHC.NOP1.CG   </td><td>Increase in poverty gap at $1.90 ($ 2011 PPP) poverty line due to out-of-pocket health care expenditure (USD)                               </td></tr>\n",
       "<tr><td>SH.UHC.NOP1.TO   </td><td>Number of people pushed below the $1.90 ($ 2011 PPP) poverty line by out-of-pocket health care expenditure                                  </td></tr>\n",
       "<tr><td>SH.UHC.NOP1.ZG   </td><td>Increase in poverty gap at $1.90 ($ 2011 PPP) poverty line due to out-of-pocket health care expenditure (% of poverty line)                 </td></tr>\n",
       "<tr><td>SH.UHC.NOP1.ZS   </td><td>Proportion of population pushed below the $1.90 ($ 2011 PPP) poverty line by out-of-pocket health care expenditure (%)                      </td></tr>\n",
       "<tr><td>SH.UHC.NOP2.CG   </td><td>Increase in poverty gap at $3.20 ($ 2011 PPP) poverty line due to out-of-pocket health care expenditure (USD)                               </td></tr>\n",
       "<tr><td>SH.UHC.NOP2.TO   </td><td>Number of people pushed below the $3.20 ($ 2011 PPP) poverty line by out-of-pocket health care expenditure                                  </td></tr>\n",
       "<tr><td>SH.UHC.NOP2.ZG   </td><td>Increase in poverty gap at $3.20 ($ 2011 PPP) poverty line due to out-of-pocket health care expenditure (% of poverty line)                 </td></tr>\n",
       "<tr><td>SH.UHC.NOP2.ZS   </td><td>Proportion of population pushed below the $3.20 ($ 2011 PPP) poverty line by out-of-pocket health care expenditure (%)                      </td></tr>\n",
       "<tr><td>SH.UHC.OOPC.10.TO</td><td>Number of people spending more than 10% of household consumption or income on out-of-pocket health care expenditure                         </td></tr>\n",
       "<tr><td>SH.UHC.OOPC.10.ZS</td><td>Proportion of population spending more than 10% of household consumption or income on out-of-pocket health care expenditure (%)             </td></tr>\n",
       "<tr><td>SH.UHC.OOPC.25.TO</td><td>Number of people spending more than 25% of household consumption or income on out-of-pocket health care expenditure                         </td></tr>\n",
       "<tr><td>SH.UHC.OOPC.25.ZS</td><td>Proportion of population spending more than 25% of household consumption or income on out-of-pocket health care expenditure (%)             </td></tr>\n",
       "<tr><td>SH.XPD.CHEX.GD.ZS</td><td>Current health expenditure (% of GDP)                                                                                                       </td></tr>\n",
       "<tr><td>SH.XPD.CHEX.PC.CD</td><td>Current health expenditure per capita (current US$)                                                                                         </td></tr>\n",
       "<tr><td>SH.XPD.CHEX.PP.CD</td><td>Current health expenditure per capita, PPP (current international $)                                                                        </td></tr>\n",
       "<tr><td>SH.XPD.EHEX.CH.ZS</td><td>External health expenditure (% of current health expenditure)                                                                               </td></tr>\n",
       "<tr><td>SH.XPD.EHEX.PC.CD</td><td>External health expenditure per capita (current US$)                                                                                        </td></tr>\n",
       "<tr><td>SH.XPD.EHEX.PP.CD</td><td>External health expenditure per capita, PPP (current international $)                                                                       </td></tr>\n",
       "<tr><td>SH.XPD.GHED.CH.ZS</td><td>Domestic general government health expenditure (% of current health expenditure)                                                            </td></tr>\n",
       "<tr><td>SH.XPD.GHED.GD.ZS</td><td>Domestic general government health expenditure (% of GDP)                                                                                   </td></tr>\n",
       "<tr><td>SH.XPD.GHED.GE.ZS</td><td>Domestic general government health expenditure (% of general government expenditure)                                                        </td></tr>\n",
       "<tr><td>SH.XPD.GHED.PC.CD</td><td>Domestic general government health expenditure per capita (current US$)                                                                     </td></tr>\n",
       "<tr><td>SH.XPD.GHED.PP.CD</td><td>Domestic general government health expenditure per capita, PPP (current international $)                                                    </td></tr>\n",
       "<tr><td>SH.XPD.PVTD.CH.ZS</td><td>Domestic private health expenditure (% of current health expenditure)                                                                       </td></tr>\n",
       "<tr><td>SH.XPD.PVTD.PC.CD</td><td>Domestic private health expenditure per capita (current US$)                                                                                </td></tr>\n",
       "<tr><td>SH.XPD.PVTD.PP.CD</td><td>Domestic private health expenditure per capita, PPP (current international $)                                                               </td></tr>\n",
       "<tr><td>                 </td><td>30 elements                                                                                                                                 </td></tr>\n",
       "</tbody>\n",
       "</table></div>"
      ],
      "text/plain": [
       "id                 value\n",
       "-----------------  --------------------------------------------------------------------------------------------------------------------------------------------\n",
       "SG.DMK.ALLD.FN.ZS  Women participating in the three decisions (own health care, major household purchases, and visiting family) (% of women age 15-49)\n",
       "SG.DMK.SRCR.FN.ZS  Women making their own informed decisions regarding sexual relations, contraceptive use and reproductive health care  (% of women age 15-49)\n",
       "SH.MED.CMHW.P3     Community health workers (per 1,000 people)\n",
       "SH.STA.BRTC.ZS     Births attended by skilled health staff (% of total)\n",
       "SH.UHC.NOP1.CG     Increase in poverty gap at $1.90 ($ 2011 PPP) poverty line due to out-of-pocket health care expenditure (USD)\n",
       "SH.UHC.NOP1.TO     Number of people pushed below the $1.90 ($ 2011 PPP) poverty line by out-of-pocket health care expenditure\n",
       "SH.UHC.NOP1.ZG     Increase in poverty gap at $1.90 ($ 2011 PPP) poverty line due to out-of-pocket health care expenditure (% of poverty line)\n",
       "SH.UHC.NOP1.ZS     Proportion of population pushed below the $1.90 ($ 2011 PPP) poverty line by out-of-pocket health care expenditure (%)\n",
       "SH.UHC.NOP2.CG     Increase in poverty gap at $3.20 ($ 2011 PPP) poverty line due to out-of-pocket health care expenditure (USD)\n",
       "SH.UHC.NOP2.TO     Number of people pushed below the $3.20 ($ 2011 PPP) poverty line by out-of-pocket health care expenditure\n",
       "SH.UHC.NOP2.ZG     Increase in poverty gap at $3.20 ($ 2011 PPP) poverty line due to out-of-pocket health care expenditure (% of poverty line)\n",
       "SH.UHC.NOP2.ZS     Proportion of population pushed below the $3.20 ($ 2011 PPP) poverty line by out-of-pocket health care expenditure (%)\n",
       "SH.UHC.OOPC.10.TO  Number of people spending more than 10% of household consumption or income on out-of-pocket health care expenditure\n",
       "SH.UHC.OOPC.10.ZS  Proportion of population spending more than 10% of household consumption or income on out-of-pocket health care expenditure (%)\n",
       "SH.UHC.OOPC.25.TO  Number of people spending more than 25% of household consumption or income on out-of-pocket health care expenditure\n",
       "SH.UHC.OOPC.25.ZS  Proportion of population spending more than 25% of household consumption or income on out-of-pocket health care expenditure (%)\n",
       "SH.XPD.CHEX.GD.ZS  Current health expenditure (% of GDP)\n",
       "SH.XPD.CHEX.PC.CD  Current health expenditure per capita (current US$)\n",
       "SH.XPD.CHEX.PP.CD  Current health expenditure per capita, PPP (current international $)\n",
       "SH.XPD.EHEX.CH.ZS  External health expenditure (% of current health expenditure)\n",
       "SH.XPD.EHEX.PC.CD  External health expenditure per capita (current US$)\n",
       "SH.XPD.EHEX.PP.CD  External health expenditure per capita, PPP (current international $)\n",
       "SH.XPD.GHED.CH.ZS  Domestic general government health expenditure (% of current health expenditure)\n",
       "SH.XPD.GHED.GD.ZS  Domestic general government health expenditure (% of GDP)\n",
       "SH.XPD.GHED.GE.ZS  Domestic general government health expenditure (% of general government expenditure)\n",
       "SH.XPD.GHED.PC.CD  Domestic general government health expenditure per capita (current US$)\n",
       "SH.XPD.GHED.PP.CD  Domestic general government health expenditure per capita, PPP (current international $)\n",
       "SH.XPD.PVTD.CH.ZS  Domestic private health expenditure (% of current health expenditure)\n",
       "SH.XPD.PVTD.PC.CD  Domestic private health expenditure per capita (current US$)\n",
       "SH.XPD.PVTD.PP.CD  Domestic private health expenditure per capita, PPP (current international $)\n",
       "                   30 elements"
      ]
     },
     "execution_count": 2,
     "metadata": {},
     "output_type": "execute_result"
    }
   ],
   "source": [
    "#busquedas por palabras clave ('health','life','mortality','nutrition','death', 'fertility', 'water', 'air', 'suicide')\n",
    "#                              Longevidad con la esperanza de vida al nacer, y los valores de media y moda de la muerte\n",
    "wb.series.info(q=('health'))"
   ]
  },
  {
   "cell_type": "code",
   "execution_count": 3,
   "metadata": {},
   "outputs": [
    {
     "data": {
      "text/html": [
       "<div class=\"wbgapi\"><table>\n",
       "<thead>\n",
       "<tr><th>id               </th><th>value                                                         </th></tr>\n",
       "</thead>\n",
       "<tbody>\n",
       "<tr><td>SH.MMR.RISK      </td><td>Lifetime risk of maternal death (1 in: rate varies by country)</td></tr>\n",
       "<tr><td>SH.MMR.RISK.ZS   </td><td>Lifetime risk of maternal death (%)                           </td></tr>\n",
       "<tr><td>SP.DYN.LE00.FE.IN</td><td>Life expectancy at birth, female (years)                      </td></tr>\n",
       "<tr><td>SP.DYN.LE00.IN   </td><td>Life expectancy at birth, total (years)                       </td></tr>\n",
       "<tr><td>SP.DYN.LE00.MA.IN</td><td>Life expectancy at birth, male (years)                        </td></tr>\n",
       "<tr><td>                 </td><td>5 elements                                                    </td></tr>\n",
       "</tbody>\n",
       "</table></div>"
      ],
      "text/plain": [
       "id                 value\n",
       "-----------------  --------------------------------------------------------------\n",
       "SH.MMR.RISK        Lifetime risk of maternal death (1 in: rate varies by country)\n",
       "SH.MMR.RISK.ZS     Lifetime risk of maternal death (%)\n",
       "SP.DYN.LE00.FE.IN  Life expectancy at birth, female (years)\n",
       "SP.DYN.LE00.IN     Life expectancy at birth, total (years)\n",
       "SP.DYN.LE00.MA.IN  Life expectancy at birth, male (years)\n",
       "                   5 elements"
      ]
     },
     "execution_count": 3,
     "metadata": {},
     "output_type": "execute_result"
    }
   ],
   "source": [
    "#AQUI ENCONTRAMOS LA INFO QUE SERA DE NUESTRO INTERES EN EL ESTUDIO DE LA ESPERANZA DE VIDA POR SEXOS\n",
    "wb.series.info(q=('life'))"
   ]
  },
  {
   "cell_type": "markdown",
   "metadata": {},
   "source": [
    "A CONTINUACION SE DECLARA LA LISTA DE PAISES A ESTUDIAR Y SE TESTEA FUNCIONAMIENTO DE LA API"
   ]
  },
  {
   "cell_type": "code",
   "execution_count": null,
   "metadata": {},
   "outputs": [],
   "source": [
    "countries_list = ['ARG','BRA','COL','CAN','CHL','MEX','ECU','USA','URY', 'PAN','VEN',\n",
    "                  'DEU','BEL','ESP','FRA','NDL','GBR','ITA','CHE','UKR', 'RUS',\n",
    "                  'AGO','EGY','CMR','NGA','ZAF','ETH',\n",
    "                  'CHN','JPN','KOR','MYS','IND','AFG']\n",
    "test = wb.data.fetch('SP.POP.TOTL', countries_list)"
   ]
  },
  {
   "cell_type": "code",
   "execution_count": null,
   "metadata": {},
   "outputs": [],
   "source": [
    "#test = wb.data.fetch('SP.POP.TOTL', countries_list)\n",
    "def getDataFrameDatabank(countries_list,dataDicc):\n",
    "    dataset = np.array([])\n",
    "    for i in dataDicc.items():\n",
    "        test = wb.data.fetch(i[0], countries_list)\n",
    "        time.sleep(1)\n",
    "        list_countries = []\n",
    "        list_years = []\n",
    "        list_data = []\n",
    "        for a in test:\n",
    "            list_countries.append(a['economy'])\n",
    "            list_years.append((a['time'][2::]))\n",
    "            list_data.append((a['value']))\n",
    "        add = {'title':i[1],\n",
    "            'economy':list_countries,\n",
    "            'time':list_years,\n",
    "            'value':list_data}\n",
    "        dataset = np.append(dataset, add)\n",
    "\n",
    "    #validation data dimentions\n",
    "\n",
    "    for i in range(0,len(dataset)):\n",
    "        print('dimention of data list: '+str(dataset[i]['title']))\n",
    "        print(len(dataset[i]['value']))\n",
    "\n",
    "    for i in range(0,len(dataset)-1):\n",
    "        if (dataset[i]['time'] == dataset[i+1]['time']):\n",
    "            print('is equal times')\n",
    "        if (dataset[i]['economy'] == dataset[i+1]['economy']):\n",
    "            print('is equal countries')\n",
    "\n",
    "    # dataframe export\n",
    "    dataframe = pd.DataFrame()\n",
    "    dataframe['country'] = dataset[0]['economy'] \n",
    "    dataframe['year'] = dataset[0]['time'] \n",
    "    for i in range(0,len(dataset)):\n",
    "        dataframe[dataset[i]['title']] = dataset[i]['value'] \n",
    "    return dataframe\n"
   ]
  },
  {
   "cell_type": "code",
   "execution_count": null,
   "metadata": {},
   "outputs": [],
   "source": [
    "countries_list = ['ARG','BRA','COL','CAN','CHL','MEX','ECU','USA','URY', 'PAN','VEN',\n",
    "                  'DEU','BEL','ESP','FRA','NDL','GBR','ITA','CHE','UKR', 'RUS',\n",
    "                  'AGO','EGY','CMR','NGA','ZAF','ETH',\n",
    "                  'CHN','JPN','KOR','MYS','IND','AFG']\n",
    "\n",
    "dataDicc = {'SP.DYN.LE00.FE.IN':'Life expectancy at birth, female (years)',\n",
    "            'SP.DYN.LE00.MA.IN':'Life expectancy at birth, male (years)'}\n",
    "\n",
    "dataframe = getDataFrameDatabank(countries_list, dataDicc)"
   ]
  },
  {
   "cell_type": "code",
   "execution_count": null,
   "metadata": {},
   "outputs": [],
   "source": [
    "dataframe"
   ]
  },
  {
   "cell_type": "code",
   "execution_count": null,
   "metadata": {},
   "outputs": [],
   "source": [
    "dataframe.to_csv('Esperanza_de_Vida.csv') "
   ]
  }
 ],
 "metadata": {
  "kernelspec": {
   "display_name": "Python 3.10.7 64-bit",
   "language": "python",
   "name": "python3"
  },
  "language_info": {
   "codemirror_mode": {
    "name": "ipython",
    "version": 3
   },
   "file_extension": ".py",
   "mimetype": "text/x-python",
   "name": "python",
   "nbconvert_exporter": "python",
   "pygments_lexer": "ipython3",
   "version": "3.10.7"
  },
  "orig_nbformat": 4,
  "vscode": {
   "interpreter": {
    "hash": "7579aee364a2e290dfc6a620616239004625e0c1356cc42c7bb47894a11803af"
   }
  }
 },
 "nbformat": 4,
 "nbformat_minor": 2
}
